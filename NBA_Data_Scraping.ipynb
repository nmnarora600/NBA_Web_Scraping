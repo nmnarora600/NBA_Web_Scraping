{
 "cells": [
  {
   "cell_type": "markdown",
   "id": "e64b4459",
   "metadata": {},
   "source": [
    "# Scraping NBA Leaders' Data"
   ]
  },
  {
   "cell_type": "markdown",
   "id": "9bfacaa4",
   "metadata": {},
   "source": [
    "## Importing needed Libraries"
   ]
  },
  {
   "cell_type": "code",
   "execution_count": 1,
   "id": "a168f074",
   "metadata": {},
   "outputs": [],
   "source": [
    "import pandas as pd\n",
    "import requests\n",
    "pd.set_option('display.max_columns', None)\n",
    "import time\n",
    "import numpy as np"
   ]
  },
  {
   "cell_type": "code",
   "execution_count": 2,
   "id": "7eac24d6",
   "metadata": {},
   "outputs": [],
   "source": [
    "test_url=\"https://stats.nba.com/stats/leagueLeaders?LeagueID=00&PerMode=PerGame&Scope=S&Season=2012-13&SeasonType=Regular%20Season&StatCategory=PTS\""
   ]
  },
  {
   "cell_type": "markdown",
   "id": "cc55fb9f",
   "metadata": {},
   "source": [
    "### requesting HTML and converting it to json"
   ]
  },
  {
   "cell_type": "code",
   "execution_count": 3,
   "id": "bc6137ca",
   "metadata": {},
   "outputs": [],
   "source": [
    "r=requests.get(url=test_url).json()"
   ]
  },
  {
   "cell_type": "markdown",
   "id": "db2f49a8",
   "metadata": {},
   "source": [
    "### Setting up Heading Row for table"
   ]
  },
  {
   "cell_type": "code",
   "execution_count": 4,
   "id": "360fe248",
   "metadata": {},
   "outputs": [],
   "source": [
    "table_headers=r['resultSet']['headers']"
   ]
  },
  {
   "cell_type": "markdown",
   "id": "479b790c",
   "metadata": {},
   "source": [
    "### Adding Years and Season for new DataFrame"
   ]
  },
  {
   "cell_type": "code",
   "execution_count": 5,
   "id": "1402d227",
   "metadata": {},
   "outputs": [],
   "source": [
    "temp_df1=pd.DataFrame(r['resultSet']['rowSet'], columns=table_headers)\n",
    "temp_df2=pd.DataFrame({'Year':['2012-13' for i in range(len(temp_df1))],\n",
    "                      'Season_type':['Regular%20Season' for i in range(len(temp_df1))]})"
   ]
  },
  {
   "cell_type": "markdown",
   "id": "48650e3a",
   "metadata": {},
   "source": [
    "### Concatinating the DataFrames"
   ]
  },
  {
   "cell_type": "code",
   "execution_count": 6,
   "id": "9996a933",
   "metadata": {},
   "outputs": [],
   "source": [
    "temp_df3=pd.concat([temp_df2, temp_df1], axis=1)"
   ]
  },
  {
   "cell_type": "code",
   "execution_count": 7,
   "id": "f20e3085",
   "metadata": {},
   "outputs": [],
   "source": [
    "del temp_df1, temp_df2, temp_df3"
   ]
  },
  {
   "cell_type": "markdown",
   "id": "55e95642",
   "metadata": {},
   "source": [
    "# Summing up Everything in one code"
   ]
  },
  {
   "cell_type": "markdown",
   "id": "da583270",
   "metadata": {},
   "source": [
    "### Headers to be not considered as bot"
   ]
  },
  {
   "cell_type": "code",
   "execution_count": 8,
   "id": "c1f070ee",
   "metadata": {},
   "outputs": [],
   "source": [
    "headers={\n",
    "        'Accept': '*/*',\n",
    "        'Accept-Encoding': 'gzip, deflate, br',\n",
    "        'Accept-Language': 'en-GB,en-US;q=0.9,en;q=0.8,hi;q=0.7,fr;q=0.6',\n",
    "        'Connection': 'keep-alive',\n",
    "        'Host': 'stats.nba.com',\n",
    "        'If-Modified-Since': 'Fri, 25 Nov 2022 12:34:17 GMT',\n",
    "        'Origin': 'https://www.nba.com',\n",
    "        'Referer': 'https://www.nba.com/',\n",
    "        'sec-ch-ua': '\"Google Chrome\";v=\"107\", \"Chromium\";v=\"107\", \"Not=A?Brand\";v=\"24\"',\n",
    "        'sec-ch-ua-mobile': '?0',\n",
    "        'sec-ch-ua-platform': \"Windows\",\n",
    "       'Sec-Fetch-Dest': 'empty',\n",
    "        'Sec-Fetch-Mode': 'cors',\n",
    "        'Sec-Fetch-Site': 'same-site',\n",
    "        'User-Agent': 'Mozilla/5.0 (Windows NT 10.0; Win64; x64) AppleWebKit/537.36 (KHTML, like Gecko) Chrome/107.0.0.0 Safari/537.36'\n",
    "}"
   ]
  },
  {
   "cell_type": "markdown",
   "id": "3610f088",
   "metadata": {},
   "source": [
    "### Defining DataFrame Columns' Titles"
   ]
  },
  {
   "cell_type": "code",
   "execution_count": 9,
   "id": "2d15bec3",
   "metadata": {},
   "outputs": [],
   "source": [
    "df_cols=['Year', 'Season_type']+ table_headers"
   ]
  },
  {
   "cell_type": "code",
   "execution_count": 10,
   "id": "b3a99ae6",
   "metadata": {},
   "outputs": [
    {
     "data": {
      "text/html": [
       "<div>\n",
       "<style scoped>\n",
       "    .dataframe tbody tr th:only-of-type {\n",
       "        vertical-align: middle;\n",
       "    }\n",
       "\n",
       "    .dataframe tbody tr th {\n",
       "        vertical-align: top;\n",
       "    }\n",
       "\n",
       "    .dataframe thead th {\n",
       "        text-align: right;\n",
       "    }\n",
       "</style>\n",
       "<table border=\"1\" class=\"dataframe\">\n",
       "  <thead>\n",
       "    <tr style=\"text-align: right;\">\n",
       "      <th></th>\n",
       "      <th>Year</th>\n",
       "      <th>Season_type</th>\n",
       "      <th>PLAYER_ID</th>\n",
       "      <th>RANK</th>\n",
       "      <th>PLAYER</th>\n",
       "      <th>TEAM_ID</th>\n",
       "      <th>TEAM</th>\n",
       "      <th>GP</th>\n",
       "      <th>MIN</th>\n",
       "      <th>FGM</th>\n",
       "      <th>FGA</th>\n",
       "      <th>FG_PCT</th>\n",
       "      <th>FG3M</th>\n",
       "      <th>FG3A</th>\n",
       "      <th>FG3_PCT</th>\n",
       "      <th>FTM</th>\n",
       "      <th>FTA</th>\n",
       "      <th>FT_PCT</th>\n",
       "      <th>OREB</th>\n",
       "      <th>DREB</th>\n",
       "      <th>REB</th>\n",
       "      <th>AST</th>\n",
       "      <th>STL</th>\n",
       "      <th>BLK</th>\n",
       "      <th>TOV</th>\n",
       "      <th>PTS</th>\n",
       "      <th>EFF</th>\n",
       "    </tr>\n",
       "  </thead>\n",
       "  <tbody>\n",
       "  </tbody>\n",
       "</table>\n",
       "</div>"
      ],
      "text/plain": [
       "Empty DataFrame\n",
       "Columns: [Year, Season_type, PLAYER_ID, RANK, PLAYER, TEAM_ID, TEAM, GP, MIN, FGM, FGA, FG_PCT, FG3M, FG3A, FG3_PCT, FTM, FTA, FT_PCT, OREB, DREB, REB, AST, STL, BLK, TOV, PTS, EFF]\n",
       "Index: []"
      ]
     },
     "execution_count": 10,
     "metadata": {},
     "output_type": "execute_result"
    }
   ],
   "source": [
    "pd.DataFrame(columns=df_cols)"
   ]
  },
  {
   "cell_type": "markdown",
   "id": "11df2b48",
   "metadata": {},
   "source": [
    "### Defining Selective Attributes"
   ]
  },
  {
   "cell_type": "code",
   "execution_count": 11,
   "id": "749371fe",
   "metadata": {},
   "outputs": [],
   "source": [
    "df=pd.DataFrame(columns=df_cols)\n",
    "season_types=['Regular%20Season', 'Playoffs']\n",
    "years=[ '2013-14', '2014-15', '2015-16', '2016-17', '2017-18','2018-19','2019-20', '2020-21', '2021-22', '2022-23']"
   ]
  },
  {
   "cell_type": "markdown",
   "id": "e0dd9170",
   "metadata": {},
   "source": [
    "## Looping through all data and seasons "
   ]
  },
  {
   "cell_type": "code",
   "execution_count": 12,
   "id": "73e06b5d",
   "metadata": {},
   "outputs": [
    {
     "name": "stdout",
     "output_type": "stream",
     "text": [
      "Finished scraping data for year 2013-14 season Regular Season.\n",
      "wait for 24.4 seconds\n",
      "Finished scraping data for year 2013-14 season Playoffs.\n",
      "wait for 12.8 seconds\n",
      "Finished scraping data for year 2014-15 season Regular Season.\n",
      "wait for 12.6 seconds\n",
      "Finished scraping data for year 2014-15 season Playoffs.\n",
      "wait for 8.7 seconds\n",
      "Finished scraping data for year 2015-16 season Regular Season.\n",
      "wait for 16.3 seconds\n",
      "Finished scraping data for year 2015-16 season Playoffs.\n",
      "wait for 10.2 seconds\n",
      "Finished scraping data for year 2016-17 season Regular Season.\n",
      "wait for 16.1 seconds\n",
      "Finished scraping data for year 2016-17 season Playoffs.\n",
      "wait for 16.4 seconds\n",
      "Finished scraping data for year 2017-18 season Regular Season.\n",
      "wait for 12.3 seconds\n",
      "Finished scraping data for year 2017-18 season Playoffs.\n",
      "wait for 10.6 seconds\n",
      "Finished scraping data for year 2018-19 season Regular Season.\n",
      "wait for 15.2 seconds\n",
      "Finished scraping data for year 2018-19 season Playoffs.\n",
      "wait for 12.9 seconds\n",
      "Finished scraping data for year 2019-20 season Regular Season.\n",
      "wait for 18.7 seconds\n",
      "Finished scraping data for year 2019-20 season Playoffs.\n",
      "wait for 22.5 seconds\n",
      "Finished scraping data for year 2020-21 season Regular Season.\n",
      "wait for 10.1 seconds\n",
      "Finished scraping data for year 2020-21 season Playoffs.\n",
      "wait for 16.7 seconds\n",
      "Finished scraping data for year 2021-22 season Regular Season.\n",
      "wait for 6.3 seconds\n",
      "Finished scraping data for year 2021-22 season Playoffs.\n",
      "wait for 18.0 seconds\n",
      "Finished scraping data for year 2022-23 season Regular Season.\n",
      "wait for 15.8 seconds\n",
      "Finished scraping data for year 2022-23 season Playoffs.\n",
      "wait for 20.9 seconds\n",
      "Process Completed ! Total Time Taken: 5.36\n"
     ]
    }
   ],
   "source": [
    "\n",
    "\n",
    "begin_loop=time.time()\n",
    "for y in years:\n",
    "    for s in season_types:\n",
    "        api_url='https://stats.nba.com/stats/leagueLeaders?LeagueID=00&PerMode=PerGame&Scope=S&Season='+y+'&SeasonType='+s+'&StatCategory=PTS'\n",
    "        r=requests.get(url=api_url, headers=headers).json()\n",
    "        temp_df1=pd.DataFrame(r['resultSet']['rowSet'], columns=table_headers)\n",
    "        temp_df2=pd.DataFrame({'Year':[y for i in range(len(temp_df1))],\n",
    "                               'Season_type':[s for i in range(len(temp_df1))]})\n",
    "        temp_df3=pd.concat([temp_df2, temp_df1], axis=1)\n",
    "\n",
    "        df=pd.concat([df, temp_df3], axis=0)\n",
    "        s2=s;\n",
    "        if(s2=='Regular%20Season'):\n",
    "            s2='Regular Season'\n",
    "        print(f'Finished scraping data for year {y} season {s2}.')\n",
    "        lag=np.random.uniform(low=5,high=25)\n",
    "        print(f'wait for {round(lag,1)} seconds')\n",
    "        time.sleep(lag)\n",
    "\n",
    "print(f'Process Completed ! Total Time Taken: {round(((time.time()-begin_loop)/60),2)}')\n"
   ]
  },
  {
   "cell_type": "markdown",
   "id": "736dba8b",
   "metadata": {},
   "source": [
    "### Writing DataFrame to an excel file"
   ]
  },
  {
   "cell_type": "code",
   "execution_count": 13,
   "id": "fb4e0bc8",
   "metadata": {},
   "outputs": [
    {
     "name": "stderr",
     "output_type": "stream",
     "text": [
      "C:\\Users\\nmnar\\AppData\\Local\\Temp\\ipykernel_5060\\3051692815.py:3: FutureWarning: save is not part of the public API, usage can give unexpected results and will be removed in a future version\n",
      "  writer.save()\n"
     ]
    }
   ],
   "source": [
    "writer = pd.ExcelWriter('nba_players_data.xlsx', engine='xlsxwriter')\n",
    "df.to_excel(writer, sheet_name='Sheet1')\n",
    "writer.save()"
   ]
  },
  {
   "cell_type": "code",
   "execution_count": null,
   "id": "5f7937fc",
   "metadata": {},
   "outputs": [],
   "source": []
  },
  {
   "cell_type": "code",
   "execution_count": null,
   "id": "f7af1c22",
   "metadata": {},
   "outputs": [],
   "source": []
  }
 ],
 "metadata": {
  "kernelspec": {
   "display_name": "Python 3 (ipykernel)",
   "language": "python",
   "name": "python3"
  },
  "language_info": {
   "codemirror_mode": {
    "name": "ipython",
    "version": 3
   },
   "file_extension": ".py",
   "mimetype": "text/x-python",
   "name": "python",
   "nbconvert_exporter": "python",
   "pygments_lexer": "ipython3",
   "version": "3.11.0"
  }
 },
 "nbformat": 4,
 "nbformat_minor": 5
}
